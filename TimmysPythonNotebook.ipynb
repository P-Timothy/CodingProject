{
 "cells": [
  {
   "cell_type": "code",
   "execution_count": 1,
   "id": "a004ada5",
   "metadata": {},
   "outputs": [],
   "source": [
    "import numpy as np\n",
    "import fiona\n",
    "import rasterio\n",
    "import rasterio.mask\n",
    "import pandas as pd\n",
    "import matplotlib.pyplot as plt"
   ]
  },
  {
   "cell_type": "markdown",
   "id": "cf6bab8d",
   "metadata": {},
   "source": [
    "Import multiple bands into one image test"
   ]
  },
  {
   "cell_type": "code",
   "execution_count": 2,
   "id": "fb18cdc6",
   "metadata": {},
   "outputs": [],
   "source": [
    "LandsatImages = [r'C:\\Users\\tschr\\Desktop\\Landsat\\clipped\\clipped85.TIF',\n",
    "                 r'C:\\Users\\tschr\\Desktop\\Landsat\\clipped\\clipped90.TIF',\n",
    "                 r'C:\\Users\\tschr\\Desktop\\Landsat\\clipped\\clipped95.TIF',\n",
    "                 r'C:\\Users\\tschr\\Desktop\\Landsat\\clipped\\clipped00.TIF',\n",
    "                 r'C:\\Users\\tschr\\Desktop\\Landsat\\clipped\\clipped05.TIF',\n",
    "                 r'C:\\Users\\tschr\\Desktop\\Landsat\\clipped\\clipped10.TIF',\n",
    "                 r'C:\\Users\\tschr\\Desktop\\Landsat\\clipped\\clipped15.TIF',\n",
    "                 r'C:\\Users\\tschr\\Desktop\\Landsat\\clipped\\clipped20.TIF']\n",
    "\n",
    "RastLandsatImages = [[],[],[],[],[],[],[],[]]\n",
    "\n",
    "for i in range(len(LandsatImages)):\n",
    "    RastLandsatImages.append(rasterio.open(LandsatImages[i]))"
   ]
  },
  {
   "cell_type": "code",
   "execution_count": 15,
   "id": "38baf609",
   "metadata": {
    "scrolled": false
   },
   "outputs": [
    {
     "ename": "TypeError",
     "evalue": "'DatasetReader' object is not callable",
     "output_type": "error",
     "traceback": [
      "\u001b[1;31m---------------------------------------------------------------------------\u001b[0m",
      "\u001b[1;31mTypeError\u001b[0m                                 Traceback (most recent call last)",
      "Cell \u001b[1;32mIn[15], line 2\u001b[0m\n\u001b[0;32m      1\u001b[0m \u001b[38;5;28;01mfrom\u001b[39;00m \u001b[38;5;21;01mrasterio\u001b[39;00m\u001b[38;5;21;01m.\u001b[39;00m\u001b[38;5;21;01mplot\u001b[39;00m \u001b[38;5;28;01mimport\u001b[39;00m show\n\u001b[1;32m----> 2\u001b[0m show((\u001b[43mRastLandsatImages\u001b[49m\u001b[43m[\u001b[49m\u001b[38;5;241;43m0\u001b[39;49m\u001b[43m]\u001b[49m\u001b[43m(\u001b[49m\u001b[38;5;241;43m1\u001b[39;49m\u001b[43m)\u001b[49m), cmap\u001b[38;5;241m=\u001b[39m\u001b[38;5;124m'\u001b[39m\u001b[38;5;124mtab20\u001b[39m\u001b[38;5;124m'\u001b[39m)\n",
      "\u001b[1;31mTypeError\u001b[0m: 'DatasetReader' object is not callable"
     ]
    }
   ],
   "source": [
    "from rasterio.plot import show\n",
    "show((RastLandsatImages[0], cmap='tab20')"
   ]
  },
  {
   "cell_type": "code",
   "execution_count": null,
   "id": "29041a1d",
   "metadata": {},
   "outputs": [],
   "source": [
    "# WGS84 coordinates\n",
    "minx, miny = 24.60, 60.00\n",
    "maxx, maxy = 25.22, 60.35\n",
    "bbox = box(minx, miny, maxx, maxy)"
   ]
  },
  {
   "cell_type": "code",
   "execution_count": null,
   "id": "07784ea0",
   "metadata": {},
   "outputs": [],
   "source": []
  },
  {
   "cell_type": "code",
   "execution_count": null,
   "id": "f50c2bf1",
   "metadata": {},
   "outputs": [],
   "source": []
  }
 ],
 "metadata": {
  "kernelspec": {
   "display_name": "Python 3 (ipykernel)",
   "language": "python",
   "name": "python3"
  },
  "language_info": {
   "codemirror_mode": {
    "name": "ipython",
    "version": 3
   },
   "file_extension": ".py",
   "mimetype": "text/x-python",
   "name": "python",
   "nbconvert_exporter": "python",
   "pygments_lexer": "ipython3",
   "version": "3.10.8"
  }
 },
 "nbformat": 4,
 "nbformat_minor": 5
}
