{
 "cells": [
  {
   "cell_type": "markdown",
   "id": "f233384e",
   "metadata": {},
   "source": [
    "# For finished functions only!!"
   ]
  },
  {
   "cell_type": "markdown",
   "id": "f578e600",
   "metadata": {},
   "source": [
    "#### Use this to store all final python functions"
   ]
  }
 ],
 "metadata": {
  "kernelspec": {
   "display_name": "Python 3 (ipykernel)",
   "language": "python",
   "name": "python3"
  },
  "language_info": {
   "codemirror_mode": {
    "name": "ipython",
    "version": 3
   },
   "file_extension": ".py",
   "mimetype": "text/x-python",
   "name": "python",
   "nbconvert_exporter": "python",
   "pygments_lexer": "ipython3",
   "version": "3.10.8"
  }
 },
 "nbformat": 4,
 "nbformat_minor": 5
}
