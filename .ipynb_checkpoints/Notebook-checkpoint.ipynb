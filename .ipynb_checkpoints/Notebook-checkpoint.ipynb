{
 "cells": [
  {
   "cell_type": "markdown",
   "id": "f233384e",
   "metadata": {},
   "source": [
    "# Main area"
   ]
  },
  {
   "cell_type": "code",
   "execution_count": 1,
   "id": "3127611e",
   "metadata": {},
   "outputs": [],
   "source": [
    "import numpy as np\n",
    "import fiona\n",
    "import rasterio\n",
    "import rasterio.mask\n",
    "import pandas as pd\n",
    "import matplotlib.pyplot as plt"
   ]
  },
  {
   "cell_type": "markdown",
   "id": "f8a7620c",
   "metadata": {},
   "source": [
    "# Me"
   ]
  },
  {
   "cell_type": "code",
   "execution_count": null,
   "id": "c1550a15",
   "metadata": {},
   "outputs": [],
   "source": [
    "filepath = \"C:\\\\Users\\\\tschr\\\\Desktop\\\\Landsat\\\\clipped\\\\\"\n",
    "LandsatImages = []"
   ]
  },
  {
   "cell_type": "code",
   "execution_count": null,
   "id": "bc8e2a81",
   "metadata": {},
   "outputs": [],
   "source": [
    "def LandsatImageList(filepath):\n",
    "    # uses input filepath to return a list of the filepaths to each years iamge\n",
    "    \n",
    "    listOfFilepaths = []\n",
    "    year = 85\n",
    "    for i in range(0,7):\n",
    "        hold = filepath + 'clipped' + str(year)[-2:] + \".TIF\"\n",
    "        listOfFilepaths.append(hold)\n",
    "        year += 5\n",
    "    \n",
    "    return(listOfFilepaths)"
   ]
  },
  {
   "cell_type": "code",
   "execution_count": null,
   "id": "3d6c8c3d",
   "metadata": {},
   "outputs": [],
   "source": [
    "def rasterCalc(formula, imageList, filename):\n",
    "    #Assumes formula is for Landsat 5 data\n",
    "    \n",
    "    #  landsat 5 bands\n",
    "    #   blue band is 1\n",
    "    #  green band is 2\n",
    "    #    red band is 3 \n",
    "    #    nir band is 4\n",
    "    \n",
    "    fileList = []\n",
    "    \n",
    "    \n",
    "    #For landsat 5\n",
    "    for i in LandsatImages[:-2]:\n",
    "        name = filename + i[-6:]\n",
    "        fileList.append(name)\n",
    "        \n",
    "        rsgislib.imagecalc.image_band_math(imageList[i], name, formula,\n",
    "                                          'GTIFF', rsgislib.TYPE_32FLOAT)\n",
    "        \n",
    "    \n",
    "    #For landsat 8    \n",
    "    for i in LandsatImages[-2:]:\n",
    "        name = filename + i[-6:]\n",
    "        fileList.append(name)\n",
    "        exp = ''\n",
    "        \n",
    "        #change bands to be 1 higer for landsat 8 data\n",
    "        for i in range(len(formula)):\n",
    "            try:\n",
    "                exp += str(int(formula[i]) + 1)\n",
    "            except:\n",
    "                exp += formula[i]\n",
    "            \n",
    "        print(exp)\n",
    "        \n",
    "        rsgislib.imagecalc.image_band_math(imageList[i], name, exp,\n",
    "                                          'GTIFF', rsgislib.TYPE_32FLOAT)\n",
    "    \n",
    "    \n",
    "    \n",
    "    return(fileList)"
   ]
  },
  {
   "cell_type": "code",
   "execution_count": null,
   "id": "b4c1d603",
   "metadata": {},
   "outputs": [],
   "source": []
  },
  {
   "cell_type": "code",
   "execution_count": null,
   "id": "dfe407ed",
   "metadata": {},
   "outputs": [],
   "source": []
  },
  {
   "cell_type": "code",
   "execution_count": null,
   "id": "493d5f58",
   "metadata": {},
   "outputs": [],
   "source": []
  },
  {
   "cell_type": "markdown",
   "id": "a9a21f1e",
   "metadata": {},
   "source": [
    "# Not me"
   ]
  },
  {
   "cell_type": "code",
   "execution_count": null,
   "id": "1bc70b8e",
   "metadata": {},
   "outputs": [],
   "source": []
  },
  {
   "cell_type": "markdown",
   "id": "0cbbe9bc",
   "metadata": {},
   "source": [
    "# Also, Not me"
   ]
  },
  {
   "cell_type": "code",
   "execution_count": null,
   "id": "198f1c8c",
   "metadata": {},
   "outputs": [],
   "source": []
  }
 ],
 "metadata": {
  "kernelspec": {
   "display_name": "Python 3 (ipykernel)",
   "language": "python",
   "name": "python3"
  },
  "language_info": {
   "codemirror_mode": {
    "name": "ipython",
    "version": 3
   },
   "file_extension": ".py",
   "mimetype": "text/x-python",
   "name": "python",
   "nbconvert_exporter": "python",
   "pygments_lexer": "ipython3",
   "version": "3.10.9"
  }
 },
 "nbformat": 4,
 "nbformat_minor": 5
}
